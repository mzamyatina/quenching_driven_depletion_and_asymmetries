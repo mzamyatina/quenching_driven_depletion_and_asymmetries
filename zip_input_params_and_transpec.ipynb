{
 "cells": [
  {
   "cell_type": "code",
   "execution_count": 4,
   "id": "ce424063-6e93-4a02-924c-973a03cd8360",
   "metadata": {},
   "outputs": [],
   "source": [
    "import shutil\n",
    "from pathlib import Path"
   ]
  },
  {
   "cell_type": "code",
   "execution_count": 5,
   "id": "9798ca5a-9c91-4300-bc4b-9b7e3780adcb",
   "metadata": {},
   "outputs": [],
   "source": [
    "path_to_dataset = (\n",
    "    Path.home() / \"datasets\" / \"papers\" / \"zamyatina2024_quenching_driven_depletion_and_asymmetries\"\n",
    ")"
   ]
  },
  {
   "cell_type": "code",
   "execution_count": 6,
   "id": "62bc48a6-3ebd-480d-9406-59b7cebacbf5",
   "metadata": {},
   "outputs": [],
   "source": [
    "# Zip dataset\n",
    "shutil.make_archive(\n",
    "    str(path_to_dataset / \"met_office_um_input_parameters\"),\n",
    "    \"zip\",\n",
    "    str(path_to_dataset / \"met_office_um_input_parameters\"),\n",
    ");"
   ]
  },
  {
   "cell_type": "code",
   "execution_count": 7,
   "id": "5f54d31e-0b42-47c2-8342-507894dd968b",
   "metadata": {},
   "outputs": [],
   "source": [
    "# Zip dataset\n",
    "shutil.make_archive(\n",
    "    str(path_to_dataset / \"met_office_um_transmission_spectra\"),\n",
    "    \"zip\",\n",
    "    str(path_to_dataset / \"met_office_um_transmission_spectra\"),\n",
    ");"
   ]
  }
 ],
 "metadata": {
  "kernelspec": {
   "display_name": "Python [conda env:exo]",
   "language": "python",
   "name": "conda-env-exo-py"
  },
  "language_info": {
   "codemirror_mode": {
    "name": "ipython",
    "version": 3
   },
   "file_extension": ".py",
   "mimetype": "text/x-python",
   "name": "python",
   "nbconvert_exporter": "python",
   "pygments_lexer": "ipython3",
   "version": "3.11.0"
  }
 },
 "nbformat": 4,
 "nbformat_minor": 5
}
